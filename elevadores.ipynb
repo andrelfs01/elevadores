{
 "cells": [
  {
   "cell_type": "code",
   "execution_count": 2,
   "metadata": {},
   "outputs": [],
   "source": [
    "import pandas as pd \n",
    "import numpy as np "
   ]
  },
  {
   "cell_type": "markdown",
   "metadata": {},
   "source": [
    "estado dos carros:\n",
    "cp(j), cd(j), cb(j), cp(j), ct(j)\n",
    "\n",
    "M=10 pisos, N=2 carros\n",
    "\n",
    "estados dos pisos:\n",
    "\n",
    "    ff(i)[], fb(i), ftc(i)\n",
    "    for ts=1:Ts    % Ts=3600 para 1 hora\n",
    "        for ts=1:Ts\n",
    "            for i=1:M (para cada andar)\n",
    "                if ftc(i) <= ts then\n",
    "                    ff(i) <-- [ftc, ta]\n",
    "                    ftc(i) = ftc(i) + exp(1/lambda);\n",
    "                    atribui_carro();\n",
    "                    c = atribui_car()\n",
    "                    cb(c) = 1;\n",
    "                    d = gera_dest();\n",
    "                end if\n",
    "            endfor-ftc\n",
    "            for j=1:N (para cada elevador)\n",
    "                if cp(j) mod 30 <> 0 then\n",
    "                    if cd(j) = 1 then\n",
    "                        cp(j) = cp(j) + 1;\n",
    "                    if cd(j) = -1 then\n",
    "                        cp(j) = cp(j) -1;\n",
    "                    else ERRO1;\n",
    "\n",
    "                if cp(j) mod 30 = 0 then\n",
    "                    f = quoc(cp(j) mod 30);\n",
    "                    case cd(j) do\n",
    "                        1: fazer()\n",
    "                        -1: fazer()\n",
    "                        0: ocioso();\n",
    "    end-for-ts\n",
    "Lembrete: toda vez que retira passageiros da s filas, salva os dados daquele passageiro [ftc, ta] num arquivo, que poder ser em disco ou em memória, para calcular média e variância do tempo de espera."
   ]
  },
  {
   "cell_type": "code",
   "execution_count": null,
   "metadata": {},
   "outputs": [],
   "source": [
    "#carro\n",
    "class Car():\n",
    "    car_position:|\n",
    "    car_direction:|"
   ]
  }
 ],
 "metadata": {
  "kernelspec": {
   "display_name": "Python 3",
   "language": "python",
   "name": "python3"
  },
  "language_info": {
   "codemirror_mode": {
    "name": "ipython",
    "version": 3
   },
   "file_extension": ".py",
   "mimetype": "text/x-python",
   "name": "python",
   "nbconvert_exporter": "python",
   "pygments_lexer": "ipython3",
   "version": "3.6.9"
  }
 },
 "nbformat": 4,
 "nbformat_minor": 2
}
